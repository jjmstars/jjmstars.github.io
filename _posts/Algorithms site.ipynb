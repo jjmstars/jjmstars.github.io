{
 "cells": [
  {
   "cell_type": "markdown",
   "metadata": {},
   "source": [
    "---\n",
    "title: Algorithms site\n",
    "category: Algorithms\n",
    "tag: [Algorithms] \n",
    "---\n"
   ]
  },
  {
   "cell_type": "markdown",
   "metadata": {},
   "source": [
    "# Summary : \n",
    "논리적으로 생각하고, 알고리즘 풀이를 한번씩 해봐야 감을 잃지 않을 것 같아서 어떤 사이트가 있는지 정리했다.\n",
    "\n",
    "# Algorithms site:\n"
   ]
  },
  {
   "cell_type": "markdown",
   "metadata": {},
   "source": [
    "## **GeeksforGeeks**<br>\n",
    "\n",
    "https://www.geeksforgeeks.org/\n",
    "\n",
    "## 백준 온라인 저지<br>\n",
    "\n",
    "https://www.acmicpc.net \n",
    "\n",
    "## HackerRank<br>\n",
    "\n",
    "https://www.hackerrank.com/\n",
    "\n",
    "## InterviewBit<br>\n",
    "\n",
    "https://www.interviewbit.com/\n",
    "\n",
    "## **오일러 프로젝트(Project Euler)**<br>\n",
    "\n",
    "http://euler.synap.co.kr/\n",
    "\n",
    "\n",
    "## **알고 스팟**<br>\n",
    "\n",
    "https://algospot.com/\n",
    "\n",
    "## **더블릿(Dovelet)**<br>\n",
    "\n",
    "http://59.23.150.58/index.php\n",
    "\n",
    "\n",
    "## 코딜리티(Codility)<br>\n",
    "\n",
    "https://codility.com/\n",
    "\n",
    "## 코딩도장<br>\n",
    "\n",
    "http://codingdojang.com/\n",
    "\n",
    "\n",
    "## UVA, live archive<br>\n",
    "\n",
    "https://uva.onlinejudge.org/ <br>\n",
    "https://icpcarchive.ecs.baylor.edu/\n",
    "\n",
    "## CodeForces, TopCoder<br>\n",
    "\n",
    "https://www.codeforces.com<br>\n",
    "https://www.topcoder.com\n"
   ]
  },
  {
   "cell_type": "markdown",
   "metadata": {},
   "source": [
    "# References : \n",
    "http://ledgku.tistory.com/40<br>\n",
    "http://lifeignite.tistory.com/8"
   ]
  }
 ],
 "metadata": {
  "kernelspec": {
   "display_name": "Python 3",
   "language": "python",
   "name": "python3"
  },
  "language_info": {
   "codemirror_mode": {
    "name": "ipython",
    "version": 3
   },
   "file_extension": ".py",
   "mimetype": "text/x-python",
   "name": "python",
   "nbconvert_exporter": "python",
   "pygments_lexer": "ipython3",
   "version": "3.6.3"
  }
 },
 "nbformat": 4,
 "nbformat_minor": 2
}
